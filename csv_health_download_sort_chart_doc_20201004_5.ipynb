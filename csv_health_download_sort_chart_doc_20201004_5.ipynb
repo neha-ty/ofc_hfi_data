{
 "cells": [
  {
   "cell_type": "code",
   "execution_count": 25,
   "metadata": {},
   "outputs": [],
   "source": [
    "import requests\n",
    "import re\n",
    "import csv\n",
    "import pandas as pd\n",
    "import datetime\n",
    "\n",
    "from docx import Document\n",
    "from docx.shared import Inches\n",
    "from time import sleep\n",
    "from dateutil.parser import parse\n",
    "from matplotlib import pyplot as plt\n",
    "from matplotlib.dates import DateFormatter\n",
    "\n",
    "%matplotlib inline"
   ]
  },
  {
   "cell_type": "code",
   "execution_count": 63,
   "metadata": {},
   "outputs": [
    {
     "name": "stderr",
     "output_type": "stream",
     "text": [
      "/home/abhishek/py_env/sec/lib/python3.7/site-packages/ipykernel_launcher.py:2: FutureWarning: The pandas.datetime class is deprecated and will be removed from pandas in a future version. Import from datetime module instead.\n",
      "  \n"
     ]
    },
    {
     "data": {
      "text/plain": [
       "'20201002'"
      ]
     },
     "execution_count": 63,
     "metadata": {},
     "output_type": "execute_result"
    }
   ],
   "source": [
    "from pandas.tseries.offsets import BDay\n",
    "today = pd.datetime.today()\n",
    "csv_date = today - BDay(1)\n",
    "csv_date = csv_date.strftime('%Y%m%d')\n",
    "csv_date"
   ]
  },
  {
   "cell_type": "code",
   "execution_count": null,
   "metadata": {},
   "outputs": [],
   "source": [
    "#x = requests.get('https://healthdata.gov/dataset/covid-19-estimated-patient-impact-and-hospital-capacity-state/resource/2e53c415-5cbe-440a')\n",
    "#txt = x.text\n",
    "y = re.search('https://healthdata.gov/sites/default/files/estimated_inpatient_all_' + csv_date + '_(.*).csv\" type' \n",
    "sr_no_1 = y.group(1)              "
   ]
  },
  {
   "cell_type": "code",
   "execution_count": null,
   "metadata": {},
   "outputs": [],
   "source": [
    "#xx = requests.get('https://healthdata.gov/dataset/covid-19-reported-patient-impact-and-hospital-capacity-state/resource/38e07d07-40a2-4749#{}')\n",
    "txt1 = xx.text\n",
    "yy = re.search('https://healthdata.gov/sites/default/files/reported_hospital_utilization_' + csv_date + '_(.*).csv\" type' , txt1)\n",
    "sr_no_2 = yy.group(1)"
   ]
  },
  {
   "cell_type": "code",
   "execution_count": 113,
   "metadata": {},
   "outputs": [],
   "source": [
    "source_csv = [('https://healthdata.gov/sites/default/files/estimated_inpatient_all_' + csv_date + '_' + sr_no_1 + '.csv'),\n",
    "            ('https://healthdata.gov/sites/default/files/estimated_inpatient_covid_' + csv_date + '_' + sr_no_1 + '.csv'),\n",
    "        \n",
    "            ('https://healthdata.gov/sites/default/files/reported_hospital_utilization_'+ csv_date + '_' + sr_no_2 + '.csv'),\n",
    "             ] \n",
    "            #'https://www.gstatic.com/covid19/mobility/Global_Mobility_Report.csv'"
   ]
  },
  {
   "cell_type": "code",
   "execution_count": 114,
   "metadata": {},
   "outputs": [
    {
     "data": {
      "text/plain": [
       "['estimated_inpatient_all_20201002.csv',\n",
       " 'estimated_inpatient_covid_20201002.csv',\n",
       " 'reported_hospital_utilization_20201002.csv']"
      ]
     },
     "execution_count": 114,
     "metadata": {},
     "output_type": "execute_result"
    }
   ],
   "source": [
    "target_file_names = ['estimated_inpatient_all',\n",
    "                     'estimated_inpatient_covid', \n",
    "                     'reported_hospital_utilization',]\n",
    "                     #'Global_Mobility_Report'\n",
    "\n",
    "target_file_names = [x + '_' + csv_date + '.csv' for x in target_file_names]\n",
    "target_file_names"
   ]
  },
  {
   "cell_type": "code",
   "execution_count": 118,
   "metadata": {},
   "outputs": [],
   "source": [
    "i=0\n",
    "for csv_addr in source_csv:\n",
    "    req = requests.get(csv_addr)\n",
    "    url_content = req.content\n",
    "\n",
    "    csv_file = open(target_file_names[i], 'wb')\n",
    "    csv_file.write(url_content)\n",
    "\n",
    "    csv_file.close()\n",
    "    sleep(11)\n",
    "    i+=1"
   ]
  },
  {
   "cell_type": "code",
   "execution_count": null,
   "metadata": {},
   "outputs": [],
   "source": [
    "#till now we have downloaded 3 csv files. from now on we will create matplotlib of the 3 files."
   ]
  },
  {
   "cell_type": "code",
   "execution_count": 2,
   "metadata": {},
   "outputs": [
    {
     "data": {
      "text/html": [
       "<div>\n",
       "<style scoped>\n",
       "    .dataframe tbody tr th:only-of-type {\n",
       "        vertical-align: middle;\n",
       "    }\n",
       "\n",
       "    .dataframe tbody tr th {\n",
       "        vertical-align: top;\n",
       "    }\n",
       "\n",
       "    .dataframe thead th {\n",
       "        text-align: right;\n",
       "    }\n",
       "</style>\n",
       "<table border=\"1\" class=\"dataframe\">\n",
       "  <thead>\n",
       "    <tr style=\"text-align: right;\">\n",
       "      <th></th>\n",
       "      <th>state</th>\n",
       "      <th>collection_date</th>\n",
       "      <th>Inpatient Beds Occupied Estimated</th>\n",
       "      <th>Count LL</th>\n",
       "      <th>Count UL</th>\n",
       "      <th>Percentage of Inpatient Beds Occupied Estimated</th>\n",
       "      <th>Percentage LL</th>\n",
       "      <th>Percentage UL</th>\n",
       "      <th>Total Inpatient Beds</th>\n",
       "      <th>Total LL</th>\n",
       "      <th>Total UL</th>\n",
       "    </tr>\n",
       "  </thead>\n",
       "  <tbody>\n",
       "    <tr>\n",
       "      <th>0</th>\n",
       "      <td>CW</td>\n",
       "      <td>2020-08-31</td>\n",
       "      <td>467,133</td>\n",
       "      <td>465,441</td>\n",
       "      <td>468,825</td>\n",
       "      <td>64.07</td>\n",
       "      <td>63.50</td>\n",
       "      <td>64.65</td>\n",
       "      <td>710,489</td>\n",
       "      <td>708,228</td>\n",
       "      <td>712,750</td>\n",
       "    </tr>\n",
       "    <tr>\n",
       "      <th>1</th>\n",
       "      <td>CW</td>\n",
       "      <td>2020-09-01</td>\n",
       "      <td>488,584</td>\n",
       "      <td>486,475</td>\n",
       "      <td>490,692</td>\n",
       "      <td>66.50</td>\n",
       "      <td>65.78</td>\n",
       "      <td>67.22</td>\n",
       "      <td>716,279</td>\n",
       "      <td>714,012</td>\n",
       "      <td>718,545</td>\n",
       "    </tr>\n",
       "    <tr>\n",
       "      <th>2</th>\n",
       "      <td>CW</td>\n",
       "      <td>2020-09-02</td>\n",
       "      <td>498,345</td>\n",
       "      <td>496,365</td>\n",
       "      <td>500,325</td>\n",
       "      <td>67.49</td>\n",
       "      <td>66.90</td>\n",
       "      <td>68.08</td>\n",
       "      <td>719,792</td>\n",
       "      <td>718,014</td>\n",
       "      <td>721,571</td>\n",
       "    </tr>\n",
       "    <tr>\n",
       "      <th>3</th>\n",
       "      <td>CW</td>\n",
       "      <td>2020-09-03</td>\n",
       "      <td>496,209</td>\n",
       "      <td>494,310</td>\n",
       "      <td>498,107</td>\n",
       "      <td>67.51</td>\n",
       "      <td>66.95</td>\n",
       "      <td>68.07</td>\n",
       "      <td>716,687</td>\n",
       "      <td>714,950</td>\n",
       "      <td>718,423</td>\n",
       "    </tr>\n",
       "    <tr>\n",
       "      <th>4</th>\n",
       "      <td>CW</td>\n",
       "      <td>2020-09-04</td>\n",
       "      <td>490,380</td>\n",
       "      <td>488,568</td>\n",
       "      <td>492,192</td>\n",
       "      <td>66.78</td>\n",
       "      <td>66.23</td>\n",
       "      <td>67.33</td>\n",
       "      <td>715,770</td>\n",
       "      <td>714,031</td>\n",
       "      <td>717,510</td>\n",
       "    </tr>\n",
       "    <tr>\n",
       "      <th>...</th>\n",
       "      <td>...</td>\n",
       "      <td>...</td>\n",
       "      <td>...</td>\n",
       "      <td>...</td>\n",
       "      <td>...</td>\n",
       "      <td>...</td>\n",
       "      <td>...</td>\n",
       "      <td>...</td>\n",
       "      <td>...</td>\n",
       "      <td>...</td>\n",
       "      <td>...</td>\n",
       "    </tr>\n",
       "    <tr>\n",
       "      <th>1691</th>\n",
       "      <td>WY</td>\n",
       "      <td>2020-09-29</td>\n",
       "      <td>537</td>\n",
       "      <td>528</td>\n",
       "      <td>546</td>\n",
       "      <td>35.54</td>\n",
       "      <td>32.56</td>\n",
       "      <td>38.51</td>\n",
       "      <td>1,512</td>\n",
       "      <td>1,484</td>\n",
       "      <td>1,540</td>\n",
       "    </tr>\n",
       "    <tr>\n",
       "      <th>1692</th>\n",
       "      <td>WV</td>\n",
       "      <td>2020-09-30</td>\n",
       "      <td>3,981</td>\n",
       "      <td>3,981</td>\n",
       "      <td>3,981</td>\n",
       "      <td>73.93</td>\n",
       "      <td>73.93</td>\n",
       "      <td>73.93</td>\n",
       "      <td>5,385</td>\n",
       "      <td>5,385</td>\n",
       "      <td>5,385</td>\n",
       "    </tr>\n",
       "    <tr>\n",
       "      <th>1693</th>\n",
       "      <td>WY</td>\n",
       "      <td>2020-09-30</td>\n",
       "      <td>580</td>\n",
       "      <td>569</td>\n",
       "      <td>592</td>\n",
       "      <td>38.37</td>\n",
       "      <td>33.92</td>\n",
       "      <td>42.82</td>\n",
       "      <td>1,512</td>\n",
       "      <td>1,467</td>\n",
       "      <td>1,557</td>\n",
       "    </tr>\n",
       "    <tr>\n",
       "      <th>1694</th>\n",
       "      <td>WV</td>\n",
       "      <td>2020-10-01</td>\n",
       "      <td>3,926</td>\n",
       "      <td>3,926</td>\n",
       "      <td>3,926</td>\n",
       "      <td>73.12</td>\n",
       "      <td>73.12</td>\n",
       "      <td>73.12</td>\n",
       "      <td>5,369</td>\n",
       "      <td>5,369</td>\n",
       "      <td>5,369</td>\n",
       "    </tr>\n",
       "    <tr>\n",
       "      <th>1695</th>\n",
       "      <td>WY</td>\n",
       "      <td>2020-10-01</td>\n",
       "      <td>589</td>\n",
       "      <td>579</td>\n",
       "      <td>599</td>\n",
       "      <td>38.96</td>\n",
       "      <td>35.42</td>\n",
       "      <td>42.49</td>\n",
       "      <td>1,512</td>\n",
       "      <td>1,478</td>\n",
       "      <td>1,546</td>\n",
       "    </tr>\n",
       "  </tbody>\n",
       "</table>\n",
       "<p>1696 rows × 11 columns</p>\n",
       "</div>"
      ],
      "text/plain": [
       "     state collection_date Inpatient Beds Occupied Estimated Count LL  \\\n",
       "0       CW      2020-08-31                           467,133  465,441   \n",
       "1       CW      2020-09-01                           488,584  486,475   \n",
       "2       CW      2020-09-02                           498,345  496,365   \n",
       "3       CW      2020-09-03                           496,209  494,310   \n",
       "4       CW      2020-09-04                           490,380  488,568   \n",
       "...    ...             ...                               ...      ...   \n",
       "1691    WY      2020-09-29                               537      528   \n",
       "1692    WV      2020-09-30                             3,981    3,981   \n",
       "1693    WY      2020-09-30                               580      569   \n",
       "1694    WV      2020-10-01                             3,926    3,926   \n",
       "1695    WY      2020-10-01                               589      579   \n",
       "\n",
       "     Count UL  Percentage of Inpatient Beds Occupied Estimated  Percentage LL  \\\n",
       "0     468,825                                            64.07          63.50   \n",
       "1     490,692                                            66.50          65.78   \n",
       "2     500,325                                            67.49          66.90   \n",
       "3     498,107                                            67.51          66.95   \n",
       "4     492,192                                            66.78          66.23   \n",
       "...       ...                                              ...            ...   \n",
       "1691      546                                            35.54          32.56   \n",
       "1692    3,981                                            73.93          73.93   \n",
       "1693      592                                            38.37          33.92   \n",
       "1694    3,926                                            73.12          73.12   \n",
       "1695      599                                            38.96          35.42   \n",
       "\n",
       "      Percentage UL Total Inpatient Beds Total LL Total UL  \n",
       "0             64.65              710,489  708,228  712,750  \n",
       "1             67.22              716,279  714,012  718,545  \n",
       "2             68.08              719,792  718,014  721,571  \n",
       "3             68.07              716,687  714,950  718,423  \n",
       "4             67.33              715,770  714,031  717,510  \n",
       "...             ...                  ...      ...      ...  \n",
       "1691          38.51                1,512    1,484    1,540  \n",
       "1692          73.93                5,385    5,385    5,385  \n",
       "1693          42.82                1,512    1,467    1,557  \n",
       "1694          73.12                5,369    5,369    5,369  \n",
       "1695          42.49                1,512    1,478    1,546  \n",
       "\n",
       "[1696 rows x 11 columns]"
      ]
     },
     "execution_count": 2,
     "metadata": {},
     "output_type": "execute_result"
    }
   ],
   "source": [
    "df = pd.read_csv('estimated_inpatient_all_20201002.csv')\n",
    "df"
   ]
  },
  {
   "cell_type": "code",
   "execution_count": 3,
   "metadata": {},
   "outputs": [
    {
     "data": {
      "text/html": [
       "<div>\n",
       "<style scoped>\n",
       "    .dataframe tbody tr th:only-of-type {\n",
       "        vertical-align: middle;\n",
       "    }\n",
       "\n",
       "    .dataframe tbody tr th {\n",
       "        vertical-align: top;\n",
       "    }\n",
       "\n",
       "    .dataframe thead th {\n",
       "        text-align: right;\n",
       "    }\n",
       "</style>\n",
       "<table border=\"1\" class=\"dataframe\">\n",
       "  <thead>\n",
       "    <tr style=\"text-align: right;\">\n",
       "      <th></th>\n",
       "      <th>state</th>\n",
       "      <th>collection_date</th>\n",
       "      <th>Inpatient Beds Occupied Estimated</th>\n",
       "      <th>Count LL</th>\n",
       "      <th>Count UL</th>\n",
       "      <th>Percentage of Inpatient Beds Occupied Estimated</th>\n",
       "      <th>Percentage LL</th>\n",
       "      <th>Percentage UL</th>\n",
       "      <th>Total Inpatient Beds</th>\n",
       "      <th>Total LL</th>\n",
       "      <th>Total UL</th>\n",
       "    </tr>\n",
       "  </thead>\n",
       "  <tbody>\n",
       "    <tr>\n",
       "      <th>448</th>\n",
       "      <td>AK</td>\n",
       "      <td>2020-08-31</td>\n",
       "      <td>870</td>\n",
       "      <td>870</td>\n",
       "      <td>870</td>\n",
       "      <td>41.06</td>\n",
       "      <td>41.06</td>\n",
       "      <td>41.06</td>\n",
       "      <td>1,281</td>\n",
       "      <td>740</td>\n",
       "      <td>1,822</td>\n",
       "    </tr>\n",
       "    <tr>\n",
       "      <th>451</th>\n",
       "      <td>AK</td>\n",
       "      <td>2020-09-01</td>\n",
       "      <td>913</td>\n",
       "      <td>913</td>\n",
       "      <td>913</td>\n",
       "      <td>42.70</td>\n",
       "      <td>42.70</td>\n",
       "      <td>42.70</td>\n",
       "      <td>1,281</td>\n",
       "      <td>849</td>\n",
       "      <td>1,713</td>\n",
       "    </tr>\n",
       "    <tr>\n",
       "      <th>454</th>\n",
       "      <td>AK</td>\n",
       "      <td>2020-09-02</td>\n",
       "      <td>913</td>\n",
       "      <td>913</td>\n",
       "      <td>913</td>\n",
       "      <td>42.62</td>\n",
       "      <td>42.62</td>\n",
       "      <td>42.62</td>\n",
       "      <td>1,281</td>\n",
       "      <td>860</td>\n",
       "      <td>1,702</td>\n",
       "    </tr>\n",
       "    <tr>\n",
       "      <th>457</th>\n",
       "      <td>AK</td>\n",
       "      <td>2020-09-03</td>\n",
       "      <td>930</td>\n",
       "      <td>928</td>\n",
       "      <td>931</td>\n",
       "      <td>45.91</td>\n",
       "      <td>45.14</td>\n",
       "      <td>46.68</td>\n",
       "      <td>1,210</td>\n",
       "      <td>802</td>\n",
       "      <td>1,618</td>\n",
       "    </tr>\n",
       "    <tr>\n",
       "      <th>460</th>\n",
       "      <td>AK</td>\n",
       "      <td>2020-09-04</td>\n",
       "      <td>908</td>\n",
       "      <td>904</td>\n",
       "      <td>911</td>\n",
       "      <td>44.42</td>\n",
       "      <td>41.83</td>\n",
       "      <td>47.01</td>\n",
       "      <td>1,210</td>\n",
       "      <td>802</td>\n",
       "      <td>1,618</td>\n",
       "    </tr>\n",
       "    <tr>\n",
       "      <th>...</th>\n",
       "      <td>...</td>\n",
       "      <td>...</td>\n",
       "      <td>...</td>\n",
       "      <td>...</td>\n",
       "      <td>...</td>\n",
       "      <td>...</td>\n",
       "      <td>...</td>\n",
       "      <td>...</td>\n",
       "      <td>...</td>\n",
       "      <td>...</td>\n",
       "      <td>...</td>\n",
       "    </tr>\n",
       "    <tr>\n",
       "      <th>1687</th>\n",
       "      <td>WY</td>\n",
       "      <td>2020-09-27</td>\n",
       "      <td>553</td>\n",
       "      <td>553</td>\n",
       "      <td>553</td>\n",
       "      <td>36.57</td>\n",
       "      <td>36.57</td>\n",
       "      <td>36.57</td>\n",
       "      <td>1,512</td>\n",
       "      <td>1,512</td>\n",
       "      <td>1,512</td>\n",
       "    </tr>\n",
       "    <tr>\n",
       "      <th>1689</th>\n",
       "      <td>WY</td>\n",
       "      <td>2020-09-28</td>\n",
       "      <td>480</td>\n",
       "      <td>478</td>\n",
       "      <td>483</td>\n",
       "      <td>31.78</td>\n",
       "      <td>29.94</td>\n",
       "      <td>33.62</td>\n",
       "      <td>1,512</td>\n",
       "      <td>1,488</td>\n",
       "      <td>1,536</td>\n",
       "    </tr>\n",
       "    <tr>\n",
       "      <th>1691</th>\n",
       "      <td>WY</td>\n",
       "      <td>2020-09-29</td>\n",
       "      <td>537</td>\n",
       "      <td>528</td>\n",
       "      <td>546</td>\n",
       "      <td>35.54</td>\n",
       "      <td>32.56</td>\n",
       "      <td>38.51</td>\n",
       "      <td>1,512</td>\n",
       "      <td>1,484</td>\n",
       "      <td>1,540</td>\n",
       "    </tr>\n",
       "    <tr>\n",
       "      <th>1693</th>\n",
       "      <td>WY</td>\n",
       "      <td>2020-09-30</td>\n",
       "      <td>580</td>\n",
       "      <td>569</td>\n",
       "      <td>592</td>\n",
       "      <td>38.37</td>\n",
       "      <td>33.92</td>\n",
       "      <td>42.82</td>\n",
       "      <td>1,512</td>\n",
       "      <td>1,467</td>\n",
       "      <td>1,557</td>\n",
       "    </tr>\n",
       "    <tr>\n",
       "      <th>1695</th>\n",
       "      <td>WY</td>\n",
       "      <td>2020-10-01</td>\n",
       "      <td>589</td>\n",
       "      <td>579</td>\n",
       "      <td>599</td>\n",
       "      <td>38.96</td>\n",
       "      <td>35.42</td>\n",
       "      <td>42.49</td>\n",
       "      <td>1,512</td>\n",
       "      <td>1,478</td>\n",
       "      <td>1,546</td>\n",
       "    </tr>\n",
       "  </tbody>\n",
       "</table>\n",
       "<p>1696 rows × 11 columns</p>\n",
       "</div>"
      ],
      "text/plain": [
       "     state collection_date Inpatient Beds Occupied Estimated Count LL  \\\n",
       "448     AK      2020-08-31                               870      870   \n",
       "451     AK      2020-09-01                               913      913   \n",
       "454     AK      2020-09-02                               913      913   \n",
       "457     AK      2020-09-03                               930      928   \n",
       "460     AK      2020-09-04                               908      904   \n",
       "...    ...             ...                               ...      ...   \n",
       "1687    WY      2020-09-27                               553      553   \n",
       "1689    WY      2020-09-28                               480      478   \n",
       "1691    WY      2020-09-29                               537      528   \n",
       "1693    WY      2020-09-30                               580      569   \n",
       "1695    WY      2020-10-01                               589      579   \n",
       "\n",
       "     Count UL  Percentage of Inpatient Beds Occupied Estimated  Percentage LL  \\\n",
       "448       870                                            41.06          41.06   \n",
       "451       913                                            42.70          42.70   \n",
       "454       913                                            42.62          42.62   \n",
       "457       931                                            45.91          45.14   \n",
       "460       911                                            44.42          41.83   \n",
       "...       ...                                              ...            ...   \n",
       "1687      553                                            36.57          36.57   \n",
       "1689      483                                            31.78          29.94   \n",
       "1691      546                                            35.54          32.56   \n",
       "1693      592                                            38.37          33.92   \n",
       "1695      599                                            38.96          35.42   \n",
       "\n",
       "      Percentage UL Total Inpatient Beds Total LL Total UL  \n",
       "448           41.06                1,281      740    1,822  \n",
       "451           42.70                1,281      849    1,713  \n",
       "454           42.62                1,281      860    1,702  \n",
       "457           46.68                1,210      802    1,618  \n",
       "460           47.01                1,210      802    1,618  \n",
       "...             ...                  ...      ...      ...  \n",
       "1687          36.57                1,512    1,512    1,512  \n",
       "1689          33.62                1,512    1,488    1,536  \n",
       "1691          38.51                1,512    1,484    1,540  \n",
       "1693          42.82                1,512    1,467    1,557  \n",
       "1695          42.49                1,512    1,478    1,546  \n",
       "\n",
       "[1696 rows x 11 columns]"
      ]
     },
     "execution_count": 3,
     "metadata": {},
     "output_type": "execute_result"
    }
   ],
   "source": [
    "df.sort_values([\"state\", \"collection_date\"], axis=0, ascending=True, inplace=True) \n",
    "#display sorted df \n",
    "df"
   ]
  },
  {
   "cell_type": "code",
   "execution_count": 4,
   "metadata": {},
   "outputs": [],
   "source": [
    "y_state_1 = df[df.state=='AK']['Inpatient Beds Occupied Estimated']\n",
    "y_state_2 = df[df.state=='AR']['Inpatient Beds Occupied Estimated']"
   ]
  },
  {
   "cell_type": "code",
   "execution_count": 5,
   "metadata": {},
   "outputs": [],
   "source": [
    "tt = [float(x.replace(',' , '')) for x in y_state_1.values] \n",
    "gg = [float(x.replace(',' , '')) for x in y_state_2.values] "
   ]
  },
  {
   "cell_type": "code",
   "execution_count": 6,
   "metadata": {},
   "outputs": [],
   "source": [
    "x_dates = df[df.state=='AK']['collection_date']"
   ]
  },
  {
   "cell_type": "code",
   "execution_count": 7,
   "metadata": {},
   "outputs": [
    {
     "data": {
      "text/plain": [
       "array(['2020-08-31', '2020-09-01', '2020-09-02', '2020-09-03',\n",
       "       '2020-09-04', '2020-09-05', '2020-09-06', '2020-09-07',\n",
       "       '2020-09-08', '2020-09-09', '2020-09-10', '2020-09-11',\n",
       "       '2020-09-12', '2020-09-13', '2020-09-14', '2020-09-15',\n",
       "       '2020-09-16', '2020-09-17', '2020-09-18', '2020-09-19',\n",
       "       '2020-09-20', '2020-09-21', '2020-09-22', '2020-09-23',\n",
       "       '2020-09-24', '2020-09-25', '2020-09-26', '2020-09-27',\n",
       "       '2020-09-28', '2020-09-29', '2020-09-30', '2020-10-01'],\n",
       "      dtype=object)"
      ]
     },
     "execution_count": 7,
     "metadata": {},
     "output_type": "execute_result"
    }
   ],
   "source": [
    "x_dates.values"
   ]
  },
  {
   "cell_type": "code",
   "execution_count": 47,
   "metadata": {},
   "outputs": [
    {
     "name": "stderr",
     "output_type": "stream",
     "text": [
      "/home/abhishek/py_env/sec/lib/python3.7/site-packages/ipykernel_launcher.py:16: UserWarning: FixedFormatter should only be used together with FixedLocator\n",
      "  app.launch_new_instance()\n"
     ]
    },
    {
     "data": {
      "image/png": "[encoded data removed]",
      "text/plain": [
       "<Figure size 864x432 with 1 Axes>"
      ]
     },
     "metadata": {
      "needs_background": "light"
     },
     "output_type": "display_data"
    }
   ],
   "source": [
    "fig, ax = plt.subplots(figsize=(12,6))\n",
    "\n",
    "\n",
    "\n",
    "plt.plot(x_dates.values, tt, label = \"AK\")\n",
    "plt.plot(x_dates.values, gg, label = \"AR\")\n",
    "\n",
    "plt.title(\"Percentage LL\")\n",
    "plt.legend()\n",
    "plt.ylabel(\"inpatient beds occupied\")\n",
    "\n",
    "\n",
    "\n",
    "#date_form = DateFormatter(\"%b'%Y\")\n",
    "#ax.xaxis.set_major_formatter(date_form)\n",
    "ax.set_xticklabels(x_dates.values, rotation = (45))\n",
    "#ax.set_xticks(range(0, len(x_dates.values), 60))\n",
    "\n",
    "plt.savefig(\"sample_chart1.png\")\n",
    "plt.show()"
   ]
  },
  {
   "cell_type": "code",
   "execution_count": 9,
   "metadata": {},
   "outputs": [
    {
     "data": {
      "text/plain": [
       "array(['870', '913', '913', '930', '908', '835', '827', '830', '868',\n",
       "       '936', '963', '960', '935', '916', '912', '960', '998', '1,020',\n",
       "       '1,008', '980', '957', '957', '1,005', '1,002', '966', '1,008',\n",
       "       '921', '928', '972', '1,021', '1,022', '1,030'], dtype=object)"
      ]
     },
     "execution_count": 9,
     "metadata": {},
     "output_type": "execute_result"
    }
   ],
   "source": [
    "y_state_1.values"
   ]
  },
  {
   "cell_type": "code",
   "execution_count": 10,
   "metadata": {},
   "outputs": [
    {
     "data": {
      "text/plain": [
       "array(['4,786', '5,158', '5,376', '5,329', '5,120', '4,851', '4,599',\n",
       "       '4,576', '4,729', '5,184', '5,367', '5,369', '5,179', '4,925',\n",
       "       '4,972', '5,299', '5,427', '5,397', '5,253', '5,014', '4,847',\n",
       "       '4,870', '5,286', '5,390', '5,446', '5,372', '5,123', '4,870',\n",
       "       '4,993', '5,425', '5,573', '5,474'], dtype=object)"
      ]
     },
     "execution_count": 10,
     "metadata": {},
     "output_type": "execute_result"
    }
   ],
   "source": [
    "y_state_2.values"
   ]
  },
  {
   "cell_type": "code",
   "execution_count": 48,
   "metadata": {},
   "outputs": [
    {
     "name": "stderr",
     "output_type": "stream",
     "text": [
      "/home/abhishek/py_env/sec/lib/python3.7/site-packages/ipykernel_launcher.py:22: UserWarning: FixedFormatter should only be used together with FixedLocator\n"
     ]
    },
    {
     "data": {
      "image/png": "[encoded data removed]",
      "text/plain": [
       "<Figure size 864x432 with 2 Axes>"
      ]
     },
     "metadata": {
      "needs_background": "light"
     },
     "output_type": "display_data"
    }
   ],
   "source": [
    "fig, ax1 = plt.subplots(figsize=(12,6))\n",
    "\n",
    "\n",
    "\n",
    "ax1.plot(x_dates.values, tt, label = \"AK\", color = 'red')\n",
    "\n",
    "ax2 = ax1.twinx()\n",
    "\n",
    "ax2.plot(x_dates.values, gg, label = \"AR\")\n",
    "\n",
    "plt.title(\"inpatient beds occupied\")\n",
    "\n",
    "ax1.legend()\n",
    "#ax2.legend(loc=0)\n",
    "\n",
    "plt.ylabel(\"inpatient beds occupied\")\n",
    "\n",
    "\n",
    "\n",
    "#date_form = DateFormatter(\"%b'%Y\")\n",
    "#ax.xaxis.set_major_formatter(date_form)\n",
    "ax1.set_xticklabels(x_dates.values, rotation = (45))\n",
    "#ax.set_xticks(range(0, len(x_dates.values), 60))\n",
    "\n",
    "\n",
    "plt.savefig(\"sample_chart2.png\")\n",
    "plt.show()"
   ]
  },
  {
   "cell_type": "code",
   "execution_count": null,
   "metadata": {},
   "outputs": [],
   "source": []
  },
  {
   "cell_type": "code",
   "execution_count": 62,
   "metadata": {},
   "outputs": [],
   "source": [
    "# chart in table form\n",
    "\n",
    "from docx import Document\n",
    "\n",
    "document = Document()\n",
    "tables = document.tables\n",
    "table = document.add_table(rows=1, cols=2)\n",
    "row_cells = table.add_row().cells\n",
    "\n",
    "for i, image in enumerate(['sample_chart1.png', 'sample_chart2.png']):\n",
    "    paragraph = row_cells[i].paragraphs[0]\n",
    "    run = paragraph.add_run()\n",
    "    run.add_picture(image, width=Inches(2))\n",
    "document.save('doc1.docx')"
   ]
  },
  {
   "cell_type": "code",
   "execution_count": 60,
   "metadata": {},
   "outputs": [],
   "source": [
    "# chart one below the other\n",
    "\n",
    "from docx import Document\n",
    "from docx.shared import Inches\n",
    "#from docx.enum.section import WD_ORIENT\n",
    "\n",
    "document = Document()\n",
    "#section.orientation = WD_ORIENT.LANDSCAPE\n",
    "\n",
    "\n",
    "document.add_heading('Charts', 0)\n",
    "\n",
    "document.add_picture('sample_chart1.png', width=Inches(5))\n",
    "document.add_picture('sample_chart2.png', width=Inches(5))\n",
    "\n",
    "document.save('doc2.docx')"
   ]
  }
 ],
 "metadata": {
  "kernelspec": {
   "display_name": "Python 3",
   "language": "python",
   "name": "python3"
  },
  "language_info": {
   "codemirror_mode": {
    "name": "ipython",
    "version": 3
   },
   "file_extension": ".py",
   "mimetype": "text/x-python",
   "name": "python",
   "nbconvert_exporter": "python",
   "pygments_lexer": "ipython3",
   "version": "3.7.8"
  }
 },
 "nbformat": 4,
 "nbformat_minor": 4
}
